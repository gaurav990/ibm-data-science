{
    "cells": [
        {
            "metadata": {
                "collapsed": true
            },
            "cell_type": "markdown",
            "source": "# My Jupyter Notebook on IBM Data Science Experience"
        },
        {
            "metadata": {},
            "cell_type": "markdown",
            "source": " **GAURAV SAMANT**<br/>\n   STUDENT"
        },
        {
            "metadata": {},
            "cell_type": "markdown",
            "source": "*Working with data and analyzing it form different angles ,finding new insights interests me the most*  "
        },
        {
            "metadata": {},
            "cell_type": "markdown",
            "source": "###  MULTIPLICATION OF 2 NOS "
        },
        {
            "metadata": {},
            "cell_type": "code",
            "source": "A=5\nB=6\nprint(A*B)",
            "execution_count": 3,
            "outputs": [
                {
                    "output_type": "stream",
                    "text": "30\n",
                    "name": "stdout"
                }
            ]
        },
        {
            "metadata": {},
            "cell_type": "markdown",
            "source": "<ol tpye=\"1\">\n<li>Hello</li>\n<li>Everyove</li>\n</ol>\n\n <hr width=\"100%\"/>\n\n<ul>\n<li>this</li>\n<li>is</li>\n    <li><strike>my</strike></li>\n<li>program</li>\n</ul>\n\n<table>\n     <tr>\n        <td>Student</td>\n        <td>Grade</td>\n    </tr>\n    <tr>\n        <td>ABC</td>\n        <td>95%</td>\n    </tr>\n    <tr>\n        <td>PQR</td>\n        <td>90%</td>\n    </tr>\n</table>\n\n<blockquote>\"Doing assignment in this notebook is amazing\"</blockqoute>"
        },
        {
            "metadata": {},
            "cell_type": "code",
            "source": "",
            "execution_count": null,
            "outputs": []
        }
    ],
    "metadata": {
        "kernelspec": {
            "name": "python3",
            "display_name": "Python 3.6",
            "language": "python"
        },
        "language_info": {
            "name": "python",
            "version": "3.6.9",
            "mimetype": "text/x-python",
            "codemirror_mode": {
                "name": "ipython",
                "version": 3
            },
            "pygments_lexer": "ipython3",
            "nbconvert_exporter": "python",
            "file_extension": ".py"
        }
    },
    "nbformat": 4,
    "nbformat_minor": 1
}